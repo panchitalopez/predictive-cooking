{
 "cells": [
  {
   "cell_type": "code",
   "execution_count": null,
   "id": "b47bf296",
   "metadata": {},
   "outputs": [],
   "source": []
  },
  {
   "cell_type": "code",
   "execution_count": null,
   "id": "6eeefb58",
   "metadata": {},
   "outputs": [
    {
     "name": "stdout",
     "output_type": "stream",
     "text": [
      "Enter your line: add more\n",
      "text :  ['add', 'more']\n",
      "[4, 111, 180, 6, 236]\n",
      "seasoning,to,than,other,and\n"
     ]
    }
   ],
   "source": [
    "from tensorflow.keras.models import load_model\n",
    "import numpy as np\n",
    "import pickle\n",
    "import sys\n",
    "\n",
    "# Load the model and tokenizer\n",
    "model = load_model('data/next_words.h5')\n",
    "tokenizer = pickle.load(open('data/token.pkl', 'rb'))\n",
    "\n",
    "def Predict_Next_Words(model, tokenizer, text):\n",
    "\n",
    "  sequence = tokenizer.texts_to_sequences([text])\n",
    "  sequence = np.array(sequence)\n",
    "  pd = model.predict(sequence)[0]\n",
    "  preds_index = np.argpartition(pd,-5)[-5:]\n",
    "  preds_values = pd[preds_index].tolist()\n",
    "\n",
    "  preds_index = preds_index.tolist()\n",
    "  \n",
    "  #sort the indices based on the prediction weight\n",
    "  preds_index = [x for _,x in sorted(zip(preds_values,preds_index))]\n",
    "  prediction = tokenizer.sequences_to_texts([preds_index])\n",
    "  \n",
    "  prediction = prediction[0].split(\" \")\n",
    "  prediction.reverse()\n",
    "  print(\",\".join(prediction))\n",
    "  \n",
    "        \n",
    "while(True):\n",
    "  text = input()\n",
    "  \n",
    "  if text == \"0\":\n",
    "      break\n",
    "  \n",
    "  else:\n",
    "      try:\n",
    "          text = text.strip().split(\" \")\n",
    "          text = text[-2:]\n",
    "        \n",
    "          Predict_Next_Words(model, tokenizer, text)\n",
    "          \n",
    "      except Exception as e:\n",
    "        sys.stderr.write(e)\n",
    "        print(\"#error#\")\n",
    "        continue\n"
   ]
  },
  {
   "cell_type": "code",
   "execution_count": null,
   "id": "45db576f",
   "metadata": {},
   "outputs": [],
   "source": []
  }
 ],
 "metadata": {
  "kernelspec": {
   "display_name": "Python 3.8.10 64-bit",
   "language": "python",
   "name": "python3"
  },
  "language_info": {
   "codemirror_mode": {
    "name": "ipython",
    "version": 3
   },
   "file_extension": ".py",
   "mimetype": "text/x-python",
   "name": "python",
   "nbconvert_exporter": "python",
   "pygments_lexer": "ipython3",
   "version": "3.8.10"
  },
  "vscode": {
   "interpreter": {
    "hash": "916dbcbb3f70747c44a77c7bcd40155683ae19c65e1c03b4aa3499c5328201f1"
   }
  }
 },
 "nbformat": 4,
 "nbformat_minor": 5
}
